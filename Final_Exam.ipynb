{
 "cells": [
  {
   "cell_type": "code",
   "execution_count": 35,
   "metadata": {},
   "outputs": [],
   "source": [
    "import pandas as pd\n",
    "import seaborn as sns\n",
    "import numpy as np\n",
    "import matplotlib.pyplot as plt\n",
    "from sklearn.model_selection import GridSearchCV, RandomizedSearchCV\n",
    "from sklearn.metrics import roc_auc_score, precision_score, precision_recall_curve, PrecisionRecallDisplay"
   ]
  },
  {
   "cell_type": "code",
   "execution_count": 12,
   "metadata": {},
   "outputs": [],
   "source": [
    "types = pd.read_csv(\"types.csv\", sep=';')\n",
    "codes = pd.read_csv(\"codes.csv\", sep=';')\n",
    "transactions = pd.read_csv(\"transactions.csv\", sep=';')\n",
    "train_set = pd.read_csv(\"train_set.csv\", sep=';')\n",
    "test_set = pd.read_csv(\"test_set.csv\", sep=';')"
   ]
  },
  {
   "cell_type": "code",
   "execution_count": 13,
   "metadata": {},
   "outputs": [
    {
     "data": {
      "text/html": [
       "<div>\n",
       "<style scoped>\n",
       "    .dataframe tbody tr th:only-of-type {\n",
       "        vertical-align: middle;\n",
       "    }\n",
       "\n",
       "    .dataframe tbody tr th {\n",
       "        vertical-align: top;\n",
       "    }\n",
       "\n",
       "    .dataframe thead th {\n",
       "        text-align: right;\n",
       "    }\n",
       "</style>\n",
       "<table border=\"1\" class=\"dataframe\">\n",
       "  <thead>\n",
       "    <tr style=\"text-align: right;\">\n",
       "      <th></th>\n",
       "      <th>client_id</th>\n",
       "      <th>datetime</th>\n",
       "      <th>code</th>\n",
       "      <th>type</th>\n",
       "      <th>sum</th>\n",
       "      <th>target</th>\n",
       "    </tr>\n",
       "  </thead>\n",
       "  <tbody>\n",
       "    <tr>\n",
       "      <th>0</th>\n",
       "      <td>22899</td>\n",
       "      <td>231 09:31:53</td>\n",
       "      <td>6011</td>\n",
       "      <td>2110</td>\n",
       "      <td>-6737.75</td>\n",
       "      <td>1.0</td>\n",
       "    </tr>\n",
       "    <tr>\n",
       "      <th>1</th>\n",
       "      <td>22899</td>\n",
       "      <td>349 16:34:52</td>\n",
       "      <td>6011</td>\n",
       "      <td>4010</td>\n",
       "      <td>-8759.07</td>\n",
       "      <td>1.0</td>\n",
       "    </tr>\n",
       "    <tr>\n",
       "      <th>2</th>\n",
       "      <td>22899</td>\n",
       "      <td>441 15:36:37</td>\n",
       "      <td>6011</td>\n",
       "      <td>4010</td>\n",
       "      <td>-8759.07</td>\n",
       "      <td>1.0</td>\n",
       "    </tr>\n",
       "    <tr>\n",
       "      <th>3</th>\n",
       "      <td>22899</td>\n",
       "      <td>167 09:50:12</td>\n",
       "      <td>4814</td>\n",
       "      <td>1030</td>\n",
       "      <td>-1122.96</td>\n",
       "      <td>1.0</td>\n",
       "    </tr>\n",
       "    <tr>\n",
       "      <th>4</th>\n",
       "      <td>22899</td>\n",
       "      <td>221 18:54:19</td>\n",
       "      <td>5399</td>\n",
       "      <td>1110</td>\n",
       "      <td>-4626.59</td>\n",
       "      <td>1.0</td>\n",
       "    </tr>\n",
       "  </tbody>\n",
       "</table>\n",
       "</div>"
      ],
      "text/plain": [
       "   client_id      datetime  code  type      sum  target\n",
       "0      22899  231 09:31:53  6011  2110 -6737.75     1.0\n",
       "1      22899  349 16:34:52  6011  4010 -8759.07     1.0\n",
       "2      22899  441 15:36:37  6011  4010 -8759.07     1.0\n",
       "3      22899  167 09:50:12  4814  1030 -1122.96     1.0\n",
       "4      22899  221 18:54:19  5399  1110 -4626.59     1.0"
      ]
     },
     "execution_count": 13,
     "metadata": {},
     "output_type": "execute_result"
    }
   ],
   "source": [
    "'''\n",
    "    Join `transactions` and `train_set` dataframes\n",
    "'''\n",
    "df = transactions.set_index(\"client_id\").join(train_set.set_index(\"client_id\")).reset_index().dropna()\n",
    "df.head()"
   ]
  },
  {
   "cell_type": "code",
   "execution_count": 14,
   "metadata": {},
   "outputs": [
    {
     "name": "stdout",
     "output_type": "stream",
     "text": [
      "client_id      int64\n",
      "code           int64\n",
      "type           int64\n",
      "sum          float64\n",
      "target         int32\n",
      "day            int32\n",
      "hours          int32\n",
      "minute         int32\n",
      "seconds        int32\n",
      "weekday        int32\n",
      "dtype: object\n"
     ]
    },
    {
     "data": {
      "text/html": [
       "<div>\n",
       "<style scoped>\n",
       "    .dataframe tbody tr th:only-of-type {\n",
       "        vertical-align: middle;\n",
       "    }\n",
       "\n",
       "    .dataframe tbody tr th {\n",
       "        vertical-align: top;\n",
       "    }\n",
       "\n",
       "    .dataframe thead th {\n",
       "        text-align: right;\n",
       "    }\n",
       "</style>\n",
       "<table border=\"1\" class=\"dataframe\">\n",
       "  <thead>\n",
       "    <tr style=\"text-align: right;\">\n",
       "      <th></th>\n",
       "      <th>client_id</th>\n",
       "      <th>code</th>\n",
       "      <th>type</th>\n",
       "      <th>sum</th>\n",
       "      <th>target</th>\n",
       "      <th>day</th>\n",
       "      <th>hours</th>\n",
       "      <th>minute</th>\n",
       "      <th>seconds</th>\n",
       "      <th>weekday</th>\n",
       "    </tr>\n",
       "  </thead>\n",
       "  <tbody>\n",
       "    <tr>\n",
       "      <th>0</th>\n",
       "      <td>22899</td>\n",
       "      <td>6011</td>\n",
       "      <td>2110</td>\n",
       "      <td>-6737.75</td>\n",
       "      <td>1</td>\n",
       "      <td>231</td>\n",
       "      <td>9</td>\n",
       "      <td>31</td>\n",
       "      <td>53</td>\n",
       "      <td>0</td>\n",
       "    </tr>\n",
       "    <tr>\n",
       "      <th>1</th>\n",
       "      <td>22899</td>\n",
       "      <td>6011</td>\n",
       "      <td>4010</td>\n",
       "      <td>-8759.07</td>\n",
       "      <td>1</td>\n",
       "      <td>349</td>\n",
       "      <td>16</td>\n",
       "      <td>34</td>\n",
       "      <td>52</td>\n",
       "      <td>6</td>\n",
       "    </tr>\n",
       "    <tr>\n",
       "      <th>2</th>\n",
       "      <td>22899</td>\n",
       "      <td>6011</td>\n",
       "      <td>4010</td>\n",
       "      <td>-8759.07</td>\n",
       "      <td>1</td>\n",
       "      <td>441</td>\n",
       "      <td>15</td>\n",
       "      <td>36</td>\n",
       "      <td>37</td>\n",
       "      <td>0</td>\n",
       "    </tr>\n",
       "    <tr>\n",
       "      <th>3</th>\n",
       "      <td>22899</td>\n",
       "      <td>4814</td>\n",
       "      <td>1030</td>\n",
       "      <td>-1122.96</td>\n",
       "      <td>1</td>\n",
       "      <td>167</td>\n",
       "      <td>9</td>\n",
       "      <td>50</td>\n",
       "      <td>12</td>\n",
       "      <td>6</td>\n",
       "    </tr>\n",
       "    <tr>\n",
       "      <th>4</th>\n",
       "      <td>22899</td>\n",
       "      <td>5399</td>\n",
       "      <td>1110</td>\n",
       "      <td>-4626.59</td>\n",
       "      <td>1</td>\n",
       "      <td>221</td>\n",
       "      <td>18</td>\n",
       "      <td>54</td>\n",
       "      <td>19</td>\n",
       "      <td>4</td>\n",
       "    </tr>\n",
       "  </tbody>\n",
       "</table>\n",
       "</div>"
      ],
      "text/plain": [
       "   client_id  code  type      sum  target  day  hours  minute  seconds  \\\n",
       "0      22899  6011  2110 -6737.75       1  231      9      31       53   \n",
       "1      22899  6011  4010 -8759.07       1  349     16      34       52   \n",
       "2      22899  6011  4010 -8759.07       1  441     15      36       37   \n",
       "3      22899  4814  1030 -1122.96       1  167      9      50       12   \n",
       "4      22899  5399  1110 -4626.59       1  221     18      54       19   \n",
       "\n",
       "   weekday  \n",
       "0        0  \n",
       "1        6  \n",
       "2        0  \n",
       "3        6  \n",
       "4        4  "
      ]
     },
     "execution_count": 14,
     "metadata": {},
     "output_type": "execute_result"
    }
   ],
   "source": [
    "'''\n",
    "    Do time and day as different columns\n",
    "    Add column weekday to analyze\n",
    "    Add hours, minutes and seconds for time colunm\n",
    "    Drop datetime, time client\n",
    "'''\n",
    "df[[\"day\", \"time\"]] = df[\"datetime\"].str.split(' ', 0, expand=True)\n",
    "df[[\"hours\", \"minute\", \"seconds\"]] = df[\"time\"].str.split(':', 0, expand=True)\n",
    "df.day = df.day.astype(int)\n",
    "df.hours = df.hours.astype(int)\n",
    "df.minute = df.minute.astype(int)\n",
    "df.seconds = df.seconds.astype(int)\n",
    "df.target = df.target.astype(int)\n",
    "df[\"weekday\"] = df.day % 7\n",
    "df = df.drop(columns=[\"datetime\", \"time\"])\n",
    "print(df.dtypes)\n",
    "df.head()"
   ]
  },
  {
   "cell_type": "code",
   "execution_count": 15,
   "metadata": {},
   "outputs": [],
   "source": [
    "'''\n",
    "    Split dataset to train and test sets\n",
    "'''\n",
    "from sklearn.model_selection import train_test_split\n",
    "X = df.drop(columns=[\"target\"])\n",
    "y = df[\"target\"]\n",
    "X_train, X_test, y_train, y_test = train_test_split(X, y)"
   ]
  },
  {
   "cell_type": "code",
   "execution_count": 16,
   "metadata": {},
   "outputs": [
    {
     "data": {
      "text/plain": [
       "array([0.51181531, 0.49014483, 0.51083524, 0.49308505, 0.38712839,\n",
       "       0.44059675, 0.49183184, 0.60313657, 0.42256589, 0.49302984])"
      ]
     },
     "execution_count": 16,
     "metadata": {},
     "output_type": "execute_result"
    }
   ],
   "source": [
    "'''\n",
    "    Decision Tree Classifier\n",
    "'''\n",
    "from sklearn.model_selection import cross_val_score\n",
    "from sklearn.tree import DecisionTreeClassifier\n",
    "clf = DecisionTreeClassifier(random_state=0)\n",
    "cross_val_score(clf, X, y, cv=10)"
   ]
  },
  {
   "cell_type": "code",
   "execution_count": 17,
   "metadata": {},
   "outputs": [
    {
     "data": {
      "text/plain": [
       "array([0.51159752, 0.4599804 , 0.49058042, 0.48840248, 0.35816182,\n",
       "       0.42110421, 0.49194075, 0.60422566, 0.42256589, 0.49259421])"
      ]
     },
     "execution_count": 17,
     "metadata": {},
     "output_type": "execute_result"
    }
   ],
   "source": [
    "'''\n",
    "    KNN\n",
    "'''\n",
    "from sklearn.neighbors import KNeighborsClassifier\n",
    "clf = KNeighborsClassifier(n_neighbors=3)\n",
    "cross_val_score(clf, X, y, cv=10)"
   ]
  },
  {
   "cell_type": "code",
   "execution_count": 19,
   "metadata": {},
   "outputs": [
    {
     "data": {
      "text/plain": [
       "array([0.51072634, 0.54176195, 0.54905804, 0.52324948, 0.40248285,\n",
       "       0.4319939 , 0.49172294, 0.60466129, 0.45992159, 0.4924853 ])"
      ]
     },
     "execution_count": 19,
     "metadata": {},
     "output_type": "execute_result"
    }
   ],
   "source": [
    "'''\n",
    "    Random Forest Classifier\n",
    "'''\n",
    "from sklearn.ensemble import RandomForestClassifier\n",
    "clf = RandomForestClassifier()\n",
    "cross_val_score(clf, X, y, cv=10)"
   ]
  },
  {
   "cell_type": "code",
   "execution_count": 26,
   "metadata": {},
   "outputs": [
    {
     "data": {
      "text/plain": [
       "{'splitter': 'best', 'max_depth': 3, 'criterion': 'entropy'}"
      ]
     },
     "execution_count": 26,
     "metadata": {},
     "output_type": "execute_result"
    }
   ],
   "source": [
    "'''\n",
    "    Randomized Search CV\n",
    "    \n",
    "    Decision Tree Classifier\n",
    "    Parameters:\n",
    "        criterion: {“gini”, “entropy”}\n",
    "        splitter: {“best”, “random”}\n",
    "        max_depth: int\n",
    "'''\n",
    "param_dist = {\n",
    "    \"criterion\": [\"gini\", \"entropy\"],\n",
    "    \"splitter\": [\"best\", \"random\"],\n",
    "    \"max_depth\": [1,2,3]\n",
    "}\n",
    "random_search = RandomizedSearchCV(DecisionTreeClassifier(), param_distributions=param_dist, n_iter=10)\n",
    "random_search.fit(X_train, y_train)\n",
    "random_search.best_params_"
   ]
  },
  {
   "cell_type": "code",
   "execution_count": 53,
   "metadata": {},
   "outputs": [
    {
     "name": "stdout",
     "output_type": "stream",
     "text": [
      "ROC/AUC: 0.5352500747819887\n",
      "Precision: 0.5584437363743082\n"
     ]
    },
    {
     "data": {
      "text/plain": [
       "<sklearn.metrics._plot.precision_recall_curve.PrecisionRecallDisplay at 0x28798865fa0>"
      ]
     },
     "execution_count": 53,
     "metadata": {},
     "output_type": "execute_result"
    },
    {
     "data": {
      "image/png": "[encoded data removed]",
      "text/plain": [
       "<Figure size 432x288 with 1 Axes>"
      ]
     },
     "metadata": {
      "needs_background": "light"
     },
     "output_type": "display_data"
    }
   ],
   "source": [
    "clf = DecisionTreeClassifier(splitter = 'best', max_depth = 3, criterion = 'entropy').fit(X_train, y_train)\n",
    "y_pred = clf.predict(X_test)\n",
    "print(\"ROC/AUC:\", roc_auc_score(y_test, y_pred))\n",
    "print(\"Precision:\", precision_score(y_test, y_pred))\n",
    "precision, recall, _ = precision_recall_curve(y_test, y_pred)\n",
    "PrecisionRecallDisplay(precision=precision, recall=recall).plot()"
   ]
  },
  {
   "cell_type": "code",
   "execution_count": 39,
   "metadata": {},
   "outputs": [
    {
     "data": {
      "text/plain": [
       "{'weights': 'uniform', 'n_neighbors': 1, 'algorithm': 'kd_tree'}"
      ]
     },
     "execution_count": 39,
     "metadata": {},
     "output_type": "execute_result"
    }
   ],
   "source": [
    "'''\n",
    "    Randomized Search CV\n",
    "    \n",
    "    KNN\n",
    "    Parameters:\n",
    "        n_neighbors: int\n",
    "        weights: {‘uniform’, ‘distance’} \n",
    "        algorithm: {‘auto’, ‘ball_tree’, ‘kd_tree’, ‘brute’}\n",
    "'''\n",
    "param_dist = {\n",
    "    \"n_neighbors\": [1,2,3,4,5,6,7,8,9,10],\n",
    "    \"weights\": [\"uniform\", \"distance\"],\n",
    "    \"algorithm\": [\"auto\", \"ball_tree\", \"kd_tree\", \"brute\"]\n",
    "}\n",
    "random_search = RandomizedSearchCV(KNeighborsClassifier(), param_distributions=param_dist, n_iter=10)\n",
    "random_search.fit(X_train, y_train)\n",
    "random_search.best_params_"
   ]
  },
  {
   "cell_type": "code",
   "execution_count": 52,
   "metadata": {},
   "outputs": [
    {
     "name": "stdout",
     "output_type": "stream",
     "text": [
      "ROC/AUC: 0.9047760115627782\n",
      "Precision: 0.9016016281744978\n"
     ]
    },
    {
     "data": {
      "text/plain": [
       "<sklearn.metrics._plot.precision_recall_curve.PrecisionRecallDisplay at 0x2879a69b9d0>"
      ]
     },
     "execution_count": 52,
     "metadata": {},
     "output_type": "execute_result"
    },
    {
     "data": {
      "image/png": "[encoded data removed]",
      "text/plain": [
       "<Figure size 432x288 with 1 Axes>"
      ]
     },
     "metadata": {
      "needs_background": "light"
     },
     "output_type": "display_data"
    }
   ],
   "source": [
    "clf = KNeighborsClassifier(weights = 'uniform', n_neighbors = 1, algorithm = 'kd_tree').fit(X_train, y_train)\n",
    "y_pred = clf.predict(X_test)\n",
    "print(\"ROC/AUC:\", roc_auc_score(y_test, y_pred))\n",
    "print(\"Precision:\", precision_score(y_test, y_pred))\n",
    "precision, recall, _ = precision_recall_curve(y_test, y_pred)\n",
    "PrecisionRecallDisplay(precision=precision, recall=recall).plot()"
   ]
  },
  {
   "cell_type": "code",
   "execution_count": 45,
   "metadata": {},
   "outputs": [
    {
     "data": {
      "text/plain": [
       "{'n_estimators': 200, 'criterion': 'entropy'}"
      ]
     },
     "execution_count": 45,
     "metadata": {},
     "output_type": "execute_result"
    }
   ],
   "source": [
    "'''\n",
    "    Randomized Search CV\n",
    "    \n",
    "    Random Forest Classifier\n",
    "    Parameters:\n",
    "        n_estimators: int\n",
    "        criterion: {“gini”, “entropy”}\n",
    "'''\n",
    "param_dist = {\n",
    "    \"n_estimators\": [100, 200, 300, 400],\n",
    "    \"criterion\": [\"gini\", \"entropy\"]\n",
    "}\n",
    "random_search = RandomizedSearchCV(RandomForestClassifier(), param_distributions=param_dist, n_iter=1)\n",
    "random_search.fit(X_train, y_train)\n",
    "random_search.best_params_"
   ]
  },
  {
   "cell_type": "code",
   "execution_count": 47,
   "metadata": {},
   "outputs": [
    {
     "name": "stdout",
     "output_type": "stream",
     "text": [
      "ROC/AUC: 0.6528038268941558\n",
      "Precision: 0.6650746268656716\n"
     ]
    },
    {
     "data": {
      "text/plain": [
       "<sklearn.metrics._plot.precision_recall_curve.PrecisionRecallDisplay at 0x287966a8100>"
      ]
     },
     "execution_count": 47,
     "metadata": {},
     "output_type": "execute_result"
    },
    {
     "data": {
      "image/png": "[encoded data removed]",
      "text/plain": [
       "<Figure size 432x288 with 1 Axes>"
      ]
     },
     "metadata": {
      "needs_background": "light"
     },
     "output_type": "display_data"
    }
   ],
   "source": [
    "clf = RandomForestClassifier(n_estimators = 200, criterion = 'entropy').fit(X_train, y_train)\n",
    "y_pred = clf.predict(X_test)\n",
    "print(\"ROC/AUC:\", roc_auc_score(y_test, y_pred))\n",
    "print(\"Precision:\", precision_score(y_test, y_pred))\n",
    "precision, recall, _ = precision_recall_curve(y_test, y_pred)\n",
    "PrecisionRecallDisplay(precision=precision, recall=recall).plot()"
   ]
  },
  {
   "cell_type": "code",
   "execution_count": 49,
   "metadata": {},
   "outputs": [
    {
     "data": {
      "text/plain": [
       "{'criterion': 'gini', 'max_depth': 3, 'splitter': 'best'}"
      ]
     },
     "execution_count": 49,
     "metadata": {},
     "output_type": "execute_result"
    }
   ],
   "source": [
    "'''\n",
    "    Grid Search CV\n",
    "    \n",
    "    Decision Tree Classifier\n",
    "    Parameters:\n",
    "        criterion: {“gini”, “entropy”}\n",
    "        splitter: {“best”, “random”}\n",
    "        max_depth: int\n",
    "'''\n",
    "param_dist = {\n",
    "    \"criterion\": [\"gini\", \"entropy\"],\n",
    "    \"splitter\": [\"best\", \"random\"],\n",
    "    \"max_depth\": [1,2,3]\n",
    "}\n",
    "grid_search = GridSearchCV(DecisionTreeClassifier(), param_dist)\n",
    "grid_search.fit(X_train, y_train)\n",
    "grid_search.best_params_"
   ]
  },
  {
   "cell_type": "code",
   "execution_count": 51,
   "metadata": {},
   "outputs": [
    {
     "name": "stdout",
     "output_type": "stream",
     "text": [
      "ROC/AUC: 0.5374458385780188\n",
      "Precision: 0.5643887362637363\n"
     ]
    },
    {
     "data": {
      "text/plain": [
       "<sklearn.metrics._plot.precision_recall_curve.PrecisionRecallDisplay at 0x287987e08b0>"
      ]
     },
     "execution_count": 51,
     "metadata": {},
     "output_type": "execute_result"
    },
    {
     "data": {
      "image/png": "[encoded data removed]",
      "text/plain": [
       "<Figure size 432x288 with 1 Axes>"
      ]
     },
     "metadata": {
      "needs_background": "light"
     },
     "output_type": "display_data"
    }
   ],
   "source": [
    "clf = DecisionTreeClassifier(splitter = 'best', max_depth = 3, criterion = 'gini').fit(X_train, y_train)\n",
    "y_pred = clf.predict(X_test)\n",
    "print(\"ROC/AUC:\", roc_auc_score(y_test, y_pred))\n",
    "print(\"Precision:\", precision_score(y_test, y_pred))\n",
    "precision, recall, _ = precision_recall_curve(y_test, y_pred)\n",
    "PrecisionRecallDisplay(precision=precision, recall=recall).plot()"
   ]
  },
  {
   "cell_type": "code",
   "execution_count": 56,
   "metadata": {},
   "outputs": [
    {
     "data": {
      "text/plain": [
       "{'algorithm': 'auto', 'n_neighbors': 1, 'weights': 'uniform'}"
      ]
     },
     "execution_count": 56,
     "metadata": {},
     "output_type": "execute_result"
    }
   ],
   "source": [
    "'''\n",
    "    Grid Search CV\n",
    "    \n",
    "    KNN\n",
    "    Parameters:\n",
    "        n_neighbors: int\n",
    "        weights: {‘uniform’, ‘distance’} \n",
    "        algorithm: {‘auto’, ‘ball_tree’, ‘kd_tree’, ‘brute’}\n",
    "'''\n",
    "param_dist = {\n",
    "    \"n_neighbors\": [1,2,3,4],\n",
    "    \"weights\": [\"uniform\", \"distance\"],\n",
    "    \"algorithm\": [\"auto\", \"ball_tree\", \"kd_tree\", \"brute\"]\n",
    "}\n",
    "grid_search = GridSearchCV(KNeighborsClassifier(), param_dist)\n",
    "grid_search.fit(X_train, y_train)\n",
    "grid_search.best_params_"
   ]
  },
  {
   "cell_type": "code",
   "execution_count": 57,
   "metadata": {},
   "outputs": [
    {
     "name": "stdout",
     "output_type": "stream",
     "text": [
      "ROC/AUC: 0.9047760115627782\n",
      "Precision: 0.9016016281744978\n"
     ]
    },
    {
     "data": {
      "text/plain": [
       "<sklearn.metrics._plot.precision_recall_curve.PrecisionRecallDisplay at 0x2879885d3d0>"
      ]
     },
     "execution_count": 57,
     "metadata": {},
     "output_type": "execute_result"
    },
    {
     "data": {
      "image/png": "[encoded data removed]",
      "text/plain": [
       "<Figure size 432x288 with 1 Axes>"
      ]
     },
     "metadata": {
      "needs_background": "light"
     },
     "output_type": "display_data"
    }
   ],
   "source": [
    "clf = KNeighborsClassifier(weights = 'uniform', n_neighbors = 1, algorithm = 'auto').fit(X_train, y_train)\n",
    "y_pred = clf.predict(X_test)\n",
    "print(\"ROC/AUC:\", roc_auc_score(y_test, y_pred))\n",
    "print(\"Precision:\", precision_score(y_test, y_pred))\n",
    "precision, recall, _ = precision_recall_curve(y_test, y_pred)\n",
    "PrecisionRecallDisplay(precision=precision, recall=recall).plot()"
   ]
  },
  {
   "cell_type": "code",
   "execution_count": 59,
   "metadata": {},
   "outputs": [
    {
     "data": {
      "text/plain": [
       "{'n_estimators': 200, 'criterion': 'entropy'}"
      ]
     },
     "execution_count": 59,
     "metadata": {},
     "output_type": "execute_result"
    }
   ],
   "source": [
    "'''\n",
    "    Grid Search CV\n",
    "    \n",
    "    Random Forest Classifier\n",
    "    Parameters:\n",
    "        n_estimators: int\n",
    "        criterion: {“gini”, “entropy”}\n",
    "'''\n",
    "param_dist = {\n",
    "    \"n_estimators\": [100, 200, 300, 400],\n",
    "    \"criterion\": [\"gini\", \"entropy\"]\n",
    "}\n",
    "grid_search = GridSearchCV(RandomForestClassifier(), param_dist)\n",
    "grid_search.fit(X_train, y_train)\n",
    "grid_search.best_params_"
   ]
  },
  {
   "cell_type": "code",
   "execution_count": 60,
   "metadata": {},
   "outputs": [
    {
     "name": "stdout",
     "output_type": "stream",
     "text": [
      "ROC/AUC: 0.6498734465075349\n",
      "Precision: 0.6610505450941526\n"
     ]
    },
    {
     "data": {
      "text/plain": [
       "<sklearn.metrics._plot.precision_recall_curve.PrecisionRecallDisplay at 0x28791b010d0>"
      ]
     },
     "execution_count": 60,
     "metadata": {},
     "output_type": "execute_result"
    },
    {
     "data": {
      "image/png": "[encoded data removed]",
      "text/plain": [
       "<Figure size 432x288 with 1 Axes>"
      ]
     },
     "metadata": {
      "needs_background": "light"
     },
     "output_type": "display_data"
    }
   ],
   "source": [
    "clf = RandomForestClassifier(n_estimators = 200, criterion = 'entropy').fit(X_train, y_train)\n",
    "y_pred = clf.predict(X_test)\n",
    "print(\"ROC/AUC:\", roc_auc_score(y_test, y_pred))\n",
    "print(\"Precision:\", precision_score(y_test, y_pred))\n",
    "precision, recall, _ = precision_recall_curve(y_test, y_pred)\n",
    "PrecisionRecallDisplay(precision=precision, recall=recall).plot()"
   ]
  },
  {
   "cell_type": "code",
   "execution_count": null,
   "metadata": {},
   "outputs": [],
   "source": []
  }
 ],
 "metadata": {
  "kernelspec": {
   "display_name": "Python 3",
   "language": "python",
   "name": "python3"
  },
  "language_info": {
   "codemirror_mode": {
    "name": "ipython",
    "version": 3
   },
   "file_extension": ".py",
   "mimetype": "text/x-python",
   "name": "python",
   "nbconvert_exporter": "python",
   "pygments_lexer": "ipython3",
   "version": "3.8.5"
  }
 },
 "nbformat": 4,
 "nbformat_minor": 4
}
